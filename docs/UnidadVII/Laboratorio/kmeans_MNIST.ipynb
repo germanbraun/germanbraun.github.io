{
  "nbformat": 4,
  "nbformat_minor": 0,
  "metadata": {
    "colab": {
      "provenance": []
    },
    "kernelspec": {
      "name": "python3",
      "display_name": "Python 3"
    },
    "language_info": {
      "name": "python"
    }
  },
  "cells": [
    {
      "cell_type": "code",
      "execution_count": 2,
      "metadata": {
        "colab": {
          "base_uri": "https://localhost:8080/"
        },
        "id": "ntMFv4sxERcN",
        "outputId": "f13e38bd-4de3-41e7-cb05-5ef2c928dd7f"
      },
      "outputs": [
        {
          "output_type": "stream",
          "name": "stdout",
          "text": [
            "[8 0 4 ... 7 6 6]\n",
            "Exactitud aproximada: 0.585\n"
          ]
        }
      ],
      "source": [
        "import numpy as np\n",
        "from sklearn.cluster import KMeans\n",
        "from sklearn.metrics import accuracy_score\n",
        "from tensorflow.keras.datasets import mnist\n",
        "\n",
        "# 1. Cargar MNIST\n",
        "(X_train, y_train), (X_test, y_test) = mnist.load_data()\n",
        "\n",
        "# 2. Preprocesar: aplanar imágenes y normalizar\n",
        "# Se genera un solo dataset y luego las imagenes de aplanaz en vectores\n",
        "X = np.concatenate([X_train, X_test])\n",
        "y = np.concatenate([y_train, y_test])\n",
        "X = X.reshape((X.shape[0], -1))  # (70000, 784)\n",
        "X = X.astype(\"float32\") / 255.0\n",
        "\n",
        "# 3. Aplicar K-Means con 10 clusters (dígitos 0-9)\n",
        "kmeans = KMeans(n_clusters=10, random_state=42, n_init=10)\n",
        "kmeans.fit(X)\n",
        "\n",
        "# 4. Asignar cada cluster a una etiqueta real\n",
        "# (se hace buscando la etiqueta más frecuente en cada cluster)\n",
        "labels = np.zeros_like(kmeans.labels_)\n",
        "for i in range(10):\n",
        "    mask = (kmeans.labels_ == i)\n",
        "    labels[mask] = np.bincount(y[mask]).argmax()\n",
        "\n",
        "print(labels)\n",
        "\n",
        "# 5. Calcular la \"exactitud aproximada\"\n",
        "acc = accuracy_score(y, labels)\n",
        "print(\"Exactitud aproximada:\", acc)\n"
      ]
    }
  ]
}